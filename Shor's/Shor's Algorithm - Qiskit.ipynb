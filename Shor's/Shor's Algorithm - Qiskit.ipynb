{
 "cells": [
  {
   "cell_type": "code",
   "execution_count": 1,
   "id": "d5aa2cfd",
   "metadata": {},
   "outputs": [],
   "source": [
    "import qiskit\n",
    "import numpy as np\n",
    "import math as math\n",
    "from qiskit import QuantumCircuit, Aer, execute\n",
    "from qiskit.visualization import plot_histogram\n",
    "from qiskit.circuit.library import QFT"
   ]
  },
  {
   "cell_type": "code",
   "execution_count": 9,
   "id": "af7adb45",
   "metadata": {},
   "outputs": [
    {
     "name": "stdout",
     "output_type": "stream",
     "text": [
      "13\n"
     ]
    },
    {
     "data": {
      "text/html": [
       "<pre style=\"word-wrap: normal;white-space: pre;background: #fff0;line-height: 1.1;font-family: &quot;Courier New&quot;,Courier,monospace\">     ┌───┐                                                                ┌───────┐┌─┐         \n",
       "q_0: ┤ H ├───────■────────────────────────────────────────────────────────┤0      ├┤M├─────────\n",
       "     ├───┤       │                                                        │       │└╥┘┌─┐      \n",
       "q_1: ┤ H ├───────┼───────────────■────────────────────────────────────────┤1      ├─╫─┤M├──────\n",
       "     ├───┤       │               │                                        │  IQFT │ ║ └╥┘┌─┐   \n",
       "q_2: ┤ H ├───────┼───────────────┼───────────────■────────────────────────┤2      ├─╫──╫─┤M├───\n",
       "     ├───┤       │               │               │                        │       │ ║  ║ └╥┘┌─┐\n",
       "q_3: ┤ H ├───────┼───────────────┼───────────────┼───────────────■────────┤3      ├─╫──╫──╫─┤M├\n",
       "     └───┘┌──────┴───────┐┌──────┴───────┐┌──────┴───────┐┌──────┴───────┐└───────┘ ║  ║  ║ └╥┘\n",
       "q_4: ─────┤0             ├┤0             ├┤0             ├┤0             ├──────────╫──╫──╫──╫─\n",
       "          │              ││              ││              ││              │          ║  ║  ║  ║ \n",
       "q_5: ─────┤1             ├┤1             ├┤1             ├┤1             ├──────────╫──╫──╫──╫─\n",
       "          │  13^1 mod 15 ││  13^2 mod 15 ││  13^4 mod 15 ││  13^8 mod 15 │          ║  ║  ║  ║ \n",
       "q_6: ─────┤2             ├┤2             ├┤2             ├┤2             ├──────────╫──╫──╫──╫─\n",
       "     ┌───┐│              ││              ││              ││              │          ║  ║  ║  ║ \n",
       "q_7: ┤ X ├┤3             ├┤3             ├┤3             ├┤3             ├──────────╫──╫──╫──╫─\n",
       "     └───┘└──────────────┘└──────────────┘└──────────────┘└──────────────┘          ║  ║  ║  ║ \n",
       "c: 4/═══════════════════════════════════════════════════════════════════════════════╩══╩══╩══╩═\n",
       "                                                                                    0  1  2  3 </pre>"
      ],
      "text/plain": [
       "     ┌───┐                                                                ┌───────┐┌─┐         \n",
       "q_0: ┤ H ├───────■────────────────────────────────────────────────────────┤0      ├┤M├─────────\n",
       "     ├───┤       │                                                        │       │└╥┘┌─┐      \n",
       "q_1: ┤ H ├───────┼───────────────■────────────────────────────────────────┤1      ├─╫─┤M├──────\n",
       "     ├───┤       │               │                                        │  IQFT │ ║ └╥┘┌─┐   \n",
       "q_2: ┤ H ├───────┼───────────────┼───────────────■────────────────────────┤2      ├─╫──╫─┤M├───\n",
       "     ├───┤       │               │               │                        │       │ ║  ║ └╥┘┌─┐\n",
       "q_3: ┤ H ├───────┼───────────────┼───────────────┼───────────────■────────┤3      ├─╫──╫──╫─┤M├\n",
       "     └───┘┌──────┴───────┐┌──────┴───────┐┌──────┴───────┐┌──────┴───────┐└───────┘ ║  ║  ║ └╥┘\n",
       "q_4: ─────┤0             ├┤0             ├┤0             ├┤0             ├──────────╫──╫──╫──╫─\n",
       "          │              ││              ││              ││              │          ║  ║  ║  ║ \n",
       "q_5: ─────┤1             ├┤1             ├┤1             ├┤1             ├──────────╫──╫──╫──╫─\n",
       "          │  13^1 mod 15 ││  13^2 mod 15 ││  13^4 mod 15 ││  13^8 mod 15 │          ║  ║  ║  ║ \n",
       "q_6: ─────┤2             ├┤2             ├┤2             ├┤2             ├──────────╫──╫──╫──╫─\n",
       "     ┌───┐│              ││              ││              ││              │          ║  ║  ║  ║ \n",
       "q_7: ┤ X ├┤3             ├┤3             ├┤3             ├┤3             ├──────────╫──╫──╫──╫─\n",
       "     └───┘└──────────────┘└──────────────┘└──────────────┘└──────────────┘          ║  ║  ║  ║ \n",
       "c: 4/═══════════════════════════════════════════════════════════════════════════════╩══╩══╩══╩═\n",
       "                                                                                    0  1  2  3 "
      ]
     },
     "execution_count": 9,
     "metadata": {},
     "output_type": "execute_result"
    }
   ],
   "source": [
    "N = 15\n",
    "a = np.random.randint(2, 15)\n",
    "if math.gcd(a, N) != 1:\n",
    "     raise ValueError(\"Non-trivial factor.\") \n",
    "\n",
    "print(a)\n",
    "        \n",
    "# The below function (a_amod15) was implemented according to the Qiskit textbook.\n",
    "# It is hardcoded for N = 15.\n",
    "\n",
    "def a_mod15(a, x):\n",
    "    if a not in [2,7,8,11,13]:\n",
    "        raise ValueError(\"'a' must be 2,7,8,11 or 13\")\n",
    "    U = QuantumCircuit(4)\n",
    "    for iteration in range(x):\n",
    "        if a in [2, 13]:\n",
    "            U.swap(0, 1)\n",
    "            U.swap(1, 2)\n",
    "            U.swap(2, 3)\n",
    "        if a in [7, 8]:\n",
    "            U.swap(2, 3)\n",
    "            U.swap(1, 2)\n",
    "            U.swap(0, 1)\n",
    "        if a == 11:\n",
    "            U.swap(1, 3)\n",
    "            U.swap(0, 2)\n",
    "        if a in [7, 11, 13]:\n",
    "            for q in range(4):\n",
    "                U.x(q)\n",
    "    U = U.to_gate()\n",
    "    U.name = \"%i^%i mod 15\" % (a, x)\n",
    "    c_U = U.control()\n",
    "    return c_U\n",
    "\n",
    "def mod_exp(qc, n, m, a):\n",
    "    for x in range(n):\n",
    "        qc.append(a_mod15(a, 2**x), [x] + list(range(n, n + m))) \n",
    "\n",
    "def iqft(qc, n):\n",
    "    qc.append(QFT(len(n), do_swaps = True).inverse(), n)\n",
    "                  \n",
    "def circ(n, m, a):\n",
    "    # Let n = 'X register'\n",
    "    # Let m = 'W register'\n",
    "    qc = QuantumCircuit(n + m, n)\n",
    "    qc.h(range(n))\n",
    "    qc.x(n + m - 1)\n",
    "        \n",
    "    mod_exp(qc, n, m, a)\n",
    "                  \n",
    "    iqft(qc, range(n))\n",
    "        \n",
    "    qc.measure(range(n), range(n))\n",
    "                  \n",
    "    return qc\n",
    "\n",
    "n = 4\n",
    "m = 4\n",
    "\n",
    "\n",
    "qc = circ(n, m, a)\n",
    "qc.draw(fold=-1)\n",
    "\n",
    "simulator = Aer.get_backend('aer_simulator')\n",
    "counts = execute(qc, backend = simulator).result().get_counts(qc)\n",
    "\n",
    "plot_histogram(counts)\n"
   ]
  },
  {
   "cell_type": "code",
   "execution_count": null,
   "id": "2c403643",
   "metadata": {},
   "outputs": [],
   "source": []
  },
  {
   "cell_type": "code",
   "execution_count": null,
   "id": "35bed5a0",
   "metadata": {},
   "outputs": [],
   "source": []
  }
 ],
 "metadata": {
  "kernelspec": {
   "display_name": "Python 3 (ipykernel)",
   "language": "python",
   "name": "python3"
  },
  "language_info": {
   "codemirror_mode": {
    "name": "ipython",
    "version": 3
   },
   "file_extension": ".py",
   "mimetype": "text/x-python",
   "name": "python",
   "nbconvert_exporter": "python",
   "pygments_lexer": "ipython3",
   "version": "3.9.7"
  }
 },
 "nbformat": 4,
 "nbformat_minor": 5
}
