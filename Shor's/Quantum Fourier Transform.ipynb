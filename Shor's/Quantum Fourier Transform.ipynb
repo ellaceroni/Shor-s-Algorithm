{
 "cells": [
  {
   "cell_type": "code",
   "execution_count": 1,
   "id": "4219e234",
   "metadata": {},
   "outputs": [],
   "source": [
    "import pennylane as qml\n",
    "import numpy as np"
   ]
  },
  {
   "cell_type": "code",
   "execution_count": 2,
   "id": "e266fe62",
   "metadata": {
    "scrolled": true
   },
   "outputs": [],
   "source": [
    "dev = qml.device('default.qubit', wires = 4, shots=1)\n",
    "\n",
    "def phase_shift(x, n):\n",
    "    qml.PhaseShift(-2 * np.pi / x, wires = n)\n",
    "\n",
    "\n",
    "@qml.qnode(dev)\n",
    "def circuit():\n",
    "    qml.SWAP(wires = [0, 3])\n",
    "    qml.SWAP(wires = [1, 2])\n",
    "    \n",
    "    qml.Hadamard(wires = 3)\n",
    "    \n",
    "    qml.ctrl(phase_shift, control = 2)(4, 3)\n",
    "    qml.Hadamard(wires = 2)\n",
    "    \n",
    "    qml.ctrl(phase_shift, control = 1)(8, 3)\n",
    "    qml.ctrl(phase_shift, control = 1)(4, 2)\n",
    "    qml.Hadamard(wires = 1)\n",
    "    \n",
    "    qml.ctrl(phase_shift, control = 0)(16, 3)\n",
    "    qml.ctrl(phase_shift, control = 0)(8, 2)\n",
    "    qml.ctrl(phase_shift, control = 0)(4, 1)\n",
    "    qml.Hadamard(wires = 0)\n",
    "    return qml.sample()"
   ]
  },
  {
   "cell_type": "code",
   "execution_count": 3,
   "id": "36ee3c1a",
   "metadata": {
    "scrolled": true
   },
   "outputs": [
    {
     "data": {
      "text/plain": [
       "tensor([0, 1, 1, 0], requires_grad=True)"
      ]
     },
     "execution_count": 3,
     "metadata": {},
     "output_type": "execute_result"
    }
   ],
   "source": [
    "circuit()"
   ]
  },
  {
   "cell_type": "code",
   "execution_count": 55,
   "id": "4dca9503",
   "metadata": {},
   "outputs": [
    {
     "name": "stdout",
     "output_type": "stream",
     "text": [
      "2\n",
      "3\n",
      "2\n",
      "4\n",
      "3\n",
      "2\n"
     ]
    },
    {
     "name": "stderr",
     "output_type": "stream",
     "text": [
      "/var/folders/yj/hd9lb5wn7ms2gf09wbjpmf_40000gn/T/ipykernel_16078/3581805249.py:33: UserWarning: Matplotlib is currently using module://matplotlib_inline.backend_inline, which is a non-GUI backend, so cannot show the figure.\n",
      "  fig.show()\n"
     ]
    },
    {
     "data": {
      "image/png": "[encoded data removed]",
      "text/plain": [
       "<Figure size 1008x360 with 1 Axes>"
      ]
     },
     "metadata": {},
     "output_type": "display_data"
    }
   ],
   "source": [
    "def phase_shift(k, n):\n",
    "    qml.PhaseShift(-2 * np.pi / 2 ** k, wires = n)\n",
    "\n",
    "@qml.qnode(dev)\n",
    "def circuit():\n",
    "    # Loop the SWAP gate.\n",
    "    m = 0\n",
    "    c = len(dev.wires) - 1\n",
    "    for x in range(m, c):\n",
    "        while m < c:\n",
    "            qml.SWAP(wires = [m, c])\n",
    "            m += 1\n",
    "            c -= 1    \n",
    "    \n",
    "    # Redefine 'C' \n",
    "    c = len(dev.wires) - 1           \n",
    "     \n",
    "    # Apply Hadamard on final qubit.\n",
    "    qml.Hadamard(wires = c)\n",
    "    \n",
    "    # Apply controlled phase shift function and Hadamards to all other qubits. \n",
    "    for y in range(c-1, -1, -1):\n",
    "        k = (c - y) + 1\n",
    "        for x in range(c, y, -1): \n",
    "            qml.ctrl(phase_shift, control = y)(k, x)\n",
    "            k -= 1\n",
    "        qml.Hadamard(wires = y)\n",
    "    return qml.sample()\n",
    "\n",
    "fig, ax = qml.draw_mpl(circuit)()\n",
    "fig.show()"
   ]
  },
  {
   "cell_type": "code",
   "execution_count": null,
   "id": "24c12144",
   "metadata": {},
   "outputs": [],
   "source": [
    "\n"
   ]
  },
  {
   "cell_type": "code",
   "execution_count": null,
   "id": "e124d046",
   "metadata": {},
   "outputs": [],
   "source": []
  }
 ],
 "metadata": {
  "kernelspec": {
   "display_name": "Python 3 (ipykernel)",
   "language": "python",
   "name": "python3"
  },
  "language_info": {
   "codemirror_mode": {
    "name": "ipython",
    "version": 3
   },
   "file_extension": ".py",
   "mimetype": "text/x-python",
   "name": "python",
   "nbconvert_exporter": "python",
   "pygments_lexer": "ipython3",
   "version": "3.9.7"
  }
 },
 "nbformat": 4,
 "nbformat_minor": 5
}
